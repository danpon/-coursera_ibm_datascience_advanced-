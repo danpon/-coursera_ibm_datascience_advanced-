{
 "cells": [
  {
   "cell_type": "markdown",
   "metadata": {},
   "source": [
    "# Human Activity Recognition Using Smartphones Data Set"
   ]
  },
  {
   "cell_type": "markdown",
   "metadata": {},
   "source": [
    "## 1. Usecase"
   ]
  },
  {
   "cell_type": "markdown",
   "metadata": {},
   "source": [
    "## 2. Dataset ETL (Extract Transform Load)"
   ]
  },
  {
   "cell_type": "code",
   "execution_count": 127,
   "metadata": {},
   "outputs": [
    {
     "name": "stdout",
     "output_type": "stream",
     "text": [
      "Summary of the X (input) variables in training dataset:\n",
      "<class 'pandas.core.frame.DataFrame'>\n",
      "RangeIndex: 7352 entries, 0 to 7351\n",
      "Columns: 561 entries, 0-tBodyAcc-mean()-X to 560-angle(Z,gravityMean)\n",
      "dtypes: float64(561)\n",
      "memory usage: 31.5 MB\n",
      "None\n",
      "Summary of the X (input) variables in testing dataset:\n",
      "<class 'pandas.core.frame.DataFrame'>\n",
      "RangeIndex: 2947 entries, 0 to 2946\n",
      "Columns: 561 entries, 0-tBodyAcc-mean()-X to 560-angle(Z,gravityMean)\n",
      "dtypes: float64(561)\n",
      "memory usage: 12.6 MB\n",
      "None\n"
     ]
    }
   ],
   "source": [
    "import pandas as pd\n",
    "\n",
    "# First we read features names, which will be used as column names in data frames\n",
    "df_features = pd.read_csv('data/features.txt',delim_whitespace=True, header=None)\n",
    "colnames = df_features.iloc[:,1].values\n",
    "\n",
    "# Column names contain duplicates (\"e.g. : fBodyAccJerk-bandsEnergy()-1,8\")\n",
    "# we fix this by prefixing column names with their indices\n",
    "colnames_fixed = []\n",
    "nbcol = len(colnames)\n",
    "for i in range(0,nbcol):\n",
    "        colnames_fixed.append(str(i)+\"-\"+colnames[i])\n",
    "\n",
    "#  Read data files\n",
    "df_train_x = pd.read_csv('data/train/X_train.txt',delim_whitespace=True,names=colnames_fixed)\n",
    "df_train_y = pd.read_csv('data/train/y_train.txt',delim_whitespace=True)\n",
    "\n",
    "df_test_x = pd.read_csv('data/test/X_test.txt',delim_whitespace=True,names=colnames_fixed)\n",
    "df_test_y = pd.read_csv('data/test/y_test.txt',delim_whitespace=True)\n",
    "\n",
    "\n",
    "print(\"Summary of the X (input) variables in training dataset:\")\n",
    "print(df_train_x.info())\n",
    "print(\"Summary of the X (input) variables in testing dataset:\")\n",
    "print(df_test_x.info())"
   ]
  },
  {
   "cell_type": "markdown",
   "metadata": {},
   "source": [
    "## 3. Data quality assessment"
   ]
  },
  {
   "cell_type": "markdown",
   "metadata": {},
   "source": [
    "### 3.1 Missing values"
   ]
  },
  {
   "cell_type": "code",
   "execution_count": 128,
   "metadata": {},
   "outputs": [
    {
     "data": {
      "text/plain": [
       "0-tBodyAcc-mean()-X                         0\n",
       "1-tBodyAcc-mean()-Y                         0\n",
       "2-tBodyAcc-mean()-Z                         0\n",
       "3-tBodyAcc-std()-X                          0\n",
       "4-tBodyAcc-std()-Y                          0\n",
       "                                           ..\n",
       "556-angle(tBodyGyroMean,gravityMean)        0\n",
       "557-angle(tBodyGyroJerkMean,gravityMean)    0\n",
       "558-angle(X,gravityMean)                    0\n",
       "559-angle(Y,gravityMean)                    0\n",
       "560-angle(Z,gravityMean)                    0\n",
       "Length: 561, dtype: int64"
      ]
     },
     "execution_count": 128,
     "metadata": {},
     "output_type": "execute_result"
    }
   ],
   "source": [
    "df_train_x.isnull().sum()"
   ]
  },
  {
   "cell_type": "code",
   "execution_count": 129,
   "metadata": {},
   "outputs": [
    {
     "name": "stdout",
     "output_type": "stream",
     "text": [
      "Missing values in training data : 0\n",
      "Missing values in testing data : 0\n"
     ]
    }
   ],
   "source": [
    "# Apparently the dataset has no missing value.\n",
    "# We will confirm this by calculating the max number of NULL values \n",
    "# in all columns (both in the training and in the testing data subsets) :\n",
    "max_na_train = max(df_train_x.isnull().sum())\n",
    "max_na_test = max(df_test_y.isnull().sum())\n",
    "print(\"Missing values in training data : {}\".format(max_na_train))\n",
    "print(\"Missing values in testing data : {}\".format(max_na_test))"
   ]
  },
  {
   "cell_type": "markdown",
   "metadata": {},
   "source": [
    "### 3.2 Invalid values"
   ]
  },
  {
   "cell_type": "code",
   "execution_count": 130,
   "metadata": {},
   "outputs": [
    {
     "data": {
      "text/html": [
       "<div>\n",
       "<style scoped>\n",
       "    .dataframe tbody tr th:only-of-type {\n",
       "        vertical-align: middle;\n",
       "    }\n",
       "\n",
       "    .dataframe tbody tr th {\n",
       "        vertical-align: top;\n",
       "    }\n",
       "\n",
       "    .dataframe thead th {\n",
       "        text-align: right;\n",
       "    }\n",
       "</style>\n",
       "<table border=\"1\" class=\"dataframe\">\n",
       "  <thead>\n",
       "    <tr style=\"text-align: right;\">\n",
       "      <th></th>\n",
       "      <th>count</th>\n",
       "      <th>mean</th>\n",
       "      <th>std</th>\n",
       "      <th>min</th>\n",
       "      <th>25%</th>\n",
       "      <th>50%</th>\n",
       "      <th>75%</th>\n",
       "      <th>max</th>\n",
       "    </tr>\n",
       "  </thead>\n",
       "  <tbody>\n",
       "    <tr>\n",
       "      <th>0-tBodyAcc-mean()-X</th>\n",
       "      <td>7352.0</td>\n",
       "      <td>0.274488</td>\n",
       "      <td>0.070261</td>\n",
       "      <td>-1.000000</td>\n",
       "      <td>0.262975</td>\n",
       "      <td>0.277193</td>\n",
       "      <td>0.288461</td>\n",
       "      <td>1.000000</td>\n",
       "    </tr>\n",
       "    <tr>\n",
       "      <th>1-tBodyAcc-mean()-Y</th>\n",
       "      <td>7352.0</td>\n",
       "      <td>-0.017695</td>\n",
       "      <td>0.040811</td>\n",
       "      <td>-1.000000</td>\n",
       "      <td>-0.024863</td>\n",
       "      <td>-0.017219</td>\n",
       "      <td>-0.010783</td>\n",
       "      <td>1.000000</td>\n",
       "    </tr>\n",
       "    <tr>\n",
       "      <th>2-tBodyAcc-mean()-Z</th>\n",
       "      <td>7352.0</td>\n",
       "      <td>-0.109141</td>\n",
       "      <td>0.056635</td>\n",
       "      <td>-1.000000</td>\n",
       "      <td>-0.120993</td>\n",
       "      <td>-0.108676</td>\n",
       "      <td>-0.097794</td>\n",
       "      <td>1.000000</td>\n",
       "    </tr>\n",
       "    <tr>\n",
       "      <th>3-tBodyAcc-std()-X</th>\n",
       "      <td>7352.0</td>\n",
       "      <td>-0.605438</td>\n",
       "      <td>0.448734</td>\n",
       "      <td>-1.000000</td>\n",
       "      <td>-0.992754</td>\n",
       "      <td>-0.946196</td>\n",
       "      <td>-0.242813</td>\n",
       "      <td>1.000000</td>\n",
       "    </tr>\n",
       "    <tr>\n",
       "      <th>4-tBodyAcc-std()-Y</th>\n",
       "      <td>7352.0</td>\n",
       "      <td>-0.510938</td>\n",
       "      <td>0.502645</td>\n",
       "      <td>-0.999873</td>\n",
       "      <td>-0.978129</td>\n",
       "      <td>-0.851897</td>\n",
       "      <td>-0.034231</td>\n",
       "      <td>0.916238</td>\n",
       "    </tr>\n",
       "    <tr>\n",
       "      <th>...</th>\n",
       "      <td>...</td>\n",
       "      <td>...</td>\n",
       "      <td>...</td>\n",
       "      <td>...</td>\n",
       "      <td>...</td>\n",
       "      <td>...</td>\n",
       "      <td>...</td>\n",
       "      <td>...</td>\n",
       "    </tr>\n",
       "    <tr>\n",
       "      <th>556-angle(tBodyGyroMean,gravityMean)</th>\n",
       "      <td>7352.0</td>\n",
       "      <td>0.008726</td>\n",
       "      <td>0.608303</td>\n",
       "      <td>-1.000000</td>\n",
       "      <td>-0.482273</td>\n",
       "      <td>0.008735</td>\n",
       "      <td>0.506187</td>\n",
       "      <td>0.998702</td>\n",
       "    </tr>\n",
       "    <tr>\n",
       "      <th>557-angle(tBodyGyroJerkMean,gravityMean)</th>\n",
       "      <td>7352.0</td>\n",
       "      <td>-0.005981</td>\n",
       "      <td>0.477975</td>\n",
       "      <td>-1.000000</td>\n",
       "      <td>-0.376341</td>\n",
       "      <td>-0.000368</td>\n",
       "      <td>0.359368</td>\n",
       "      <td>0.996078</td>\n",
       "    </tr>\n",
       "    <tr>\n",
       "      <th>558-angle(X,gravityMean)</th>\n",
       "      <td>7352.0</td>\n",
       "      <td>-0.489547</td>\n",
       "      <td>0.511807</td>\n",
       "      <td>-1.000000</td>\n",
       "      <td>-0.812065</td>\n",
       "      <td>-0.709417</td>\n",
       "      <td>-0.509079</td>\n",
       "      <td>1.000000</td>\n",
       "    </tr>\n",
       "    <tr>\n",
       "      <th>559-angle(Y,gravityMean)</th>\n",
       "      <td>7352.0</td>\n",
       "      <td>0.058593</td>\n",
       "      <td>0.297480</td>\n",
       "      <td>-1.000000</td>\n",
       "      <td>-0.017885</td>\n",
       "      <td>0.182071</td>\n",
       "      <td>0.248353</td>\n",
       "      <td>0.478157</td>\n",
       "    </tr>\n",
       "    <tr>\n",
       "      <th>560-angle(Z,gravityMean)</th>\n",
       "      <td>7352.0</td>\n",
       "      <td>-0.056515</td>\n",
       "      <td>0.279122</td>\n",
       "      <td>-1.000000</td>\n",
       "      <td>-0.143414</td>\n",
       "      <td>0.003181</td>\n",
       "      <td>0.107659</td>\n",
       "      <td>1.000000</td>\n",
       "    </tr>\n",
       "  </tbody>\n",
       "</table>\n",
       "<p>561 rows × 8 columns</p>\n",
       "</div>"
      ],
      "text/plain": [
       "                                           count      mean       std  \\\n",
       "0-tBodyAcc-mean()-X                       7352.0  0.274488  0.070261   \n",
       "1-tBodyAcc-mean()-Y                       7352.0 -0.017695  0.040811   \n",
       "2-tBodyAcc-mean()-Z                       7352.0 -0.109141  0.056635   \n",
       "3-tBodyAcc-std()-X                        7352.0 -0.605438  0.448734   \n",
       "4-tBodyAcc-std()-Y                        7352.0 -0.510938  0.502645   \n",
       "...                                          ...       ...       ...   \n",
       "556-angle(tBodyGyroMean,gravityMean)      7352.0  0.008726  0.608303   \n",
       "557-angle(tBodyGyroJerkMean,gravityMean)  7352.0 -0.005981  0.477975   \n",
       "558-angle(X,gravityMean)                  7352.0 -0.489547  0.511807   \n",
       "559-angle(Y,gravityMean)                  7352.0  0.058593  0.297480   \n",
       "560-angle(Z,gravityMean)                  7352.0 -0.056515  0.279122   \n",
       "\n",
       "                                               min       25%       50%  \\\n",
       "0-tBodyAcc-mean()-X                      -1.000000  0.262975  0.277193   \n",
       "1-tBodyAcc-mean()-Y                      -1.000000 -0.024863 -0.017219   \n",
       "2-tBodyAcc-mean()-Z                      -1.000000 -0.120993 -0.108676   \n",
       "3-tBodyAcc-std()-X                       -1.000000 -0.992754 -0.946196   \n",
       "4-tBodyAcc-std()-Y                       -0.999873 -0.978129 -0.851897   \n",
       "...                                            ...       ...       ...   \n",
       "556-angle(tBodyGyroMean,gravityMean)     -1.000000 -0.482273  0.008735   \n",
       "557-angle(tBodyGyroJerkMean,gravityMean) -1.000000 -0.376341 -0.000368   \n",
       "558-angle(X,gravityMean)                 -1.000000 -0.812065 -0.709417   \n",
       "559-angle(Y,gravityMean)                 -1.000000 -0.017885  0.182071   \n",
       "560-angle(Z,gravityMean)                 -1.000000 -0.143414  0.003181   \n",
       "\n",
       "                                               75%       max  \n",
       "0-tBodyAcc-mean()-X                       0.288461  1.000000  \n",
       "1-tBodyAcc-mean()-Y                      -0.010783  1.000000  \n",
       "2-tBodyAcc-mean()-Z                      -0.097794  1.000000  \n",
       "3-tBodyAcc-std()-X                       -0.242813  1.000000  \n",
       "4-tBodyAcc-std()-Y                       -0.034231  0.916238  \n",
       "...                                            ...       ...  \n",
       "556-angle(tBodyGyroMean,gravityMean)      0.506187  0.998702  \n",
       "557-angle(tBodyGyroJerkMean,gravityMean)  0.359368  0.996078  \n",
       "558-angle(X,gravityMean)                 -0.509079  1.000000  \n",
       "559-angle(Y,gravityMean)                  0.248353  0.478157  \n",
       "560-angle(Z,gravityMean)                  0.107659  1.000000  \n",
       "\n",
       "[561 rows x 8 columns]"
      ]
     },
     "execution_count": 130,
     "metadata": {},
     "output_type": "execute_result"
    }
   ],
   "source": [
    "# According to the datasets description each feature is scaled and normalized\n",
    "# so that its values should be in range [-1,1] :\n",
    "df_train_x.describe().transpose()"
   ]
  },
  {
   "cell_type": "code",
   "execution_count": 131,
   "metadata": {},
   "outputs": [
    {
     "name": "stdout",
     "output_type": "stream",
     "text": [
      " Training dataset - values are in range [-1.0,1.0]\n",
      " Testing dataset - values are in range [-1.0,1.0]\n"
     ]
    }
   ],
   "source": [
    "# We can check that all values are really in range [-1,1] both in training and testing datasets as follows :\n",
    "train_min= min(df_train_x.min())\n",
    "train_max= max(df_train_x.max())\n",
    "test_min= min(df_test_x.min())\n",
    "test_max= max(df_test_x.max())\n",
    "print(f\" Training dataset - values are in range [{train_min},{train_max}]\")\n",
    "print(f\" Testing dataset - values are in range [{test_min},{test_max}]\")\n"
   ]
  },
  {
   "cell_type": "markdown",
   "metadata": {},
   "source": [
    "### 3.3 Outliers"
   ]
  },
  {
   "cell_type": "code",
   "execution_count": 132,
   "metadata": {},
   "outputs": [
    {
     "data": {
      "text/plain": [
       "0-tBodyAcc-mean()-X                         1795\n",
       "1-tBodyAcc-mean()-Y                         1122\n",
       "2-tBodyAcc-mean()-Z                         1180\n",
       "3-tBodyAcc-std()-X                             2\n",
       "4-tBodyAcc-std()-Y                             0\n",
       "                                            ... \n",
       "556-angle(tBodyGyroMean,gravityMean)           0\n",
       "557-angle(tBodyGyroJerkMean,gravityMean)       0\n",
       "558-angle(X,gravityMean)                    1437\n",
       "559-angle(Y,gravityMean)                     776\n",
       "560-angle(Z,gravityMean)                     705\n",
       "Length: 561, dtype: int64"
      ]
     },
     "execution_count": 132,
     "metadata": {},
     "output_type": "execute_result"
    }
   ],
   "source": [
    "# we can show that there are outliers in the training dataset\n",
    "# by calculating the IQR (Inter Quartile Range) for each feature variable\n",
    "# Although outliers display \"extreme\" values there are not necessarily invalid\n",
    "# So we'll keep them for now\n",
    "Q1 = df_train_x.quantile(0.25)\n",
    "Q3 = df_train_x.quantile(0.75)\n",
    "IQR = Q3 - Q1\n",
    "((df_train_x < (Q1 - 1.5 * IQR)) | (df_train_x > (Q3 + 1.5 * IQR))).sum()\n"
   ]
  },
  {
   "cell_type": "markdown",
   "metadata": {},
   "source": [
    "## 4. Data exploration"
   ]
  },
  {
   "cell_type": "code",
   "execution_count": 142,
   "metadata": {},
   "outputs": [
    {
     "data": {
      "text/plain": [
       "[<matplotlib.lines.Line2D at 0x7f19e15b55d0>]"
      ]
     },
     "execution_count": 142,
     "metadata": {},
     "output_type": "execute_result"
    },
    {
     "data": {
      "image/png": "[encoded data removed]",
      "text/plain": [
       "<Figure size 432x288 with 1 Axes>"
      ]
     },
     "metadata": {
      "needs_background": "light"
     },
     "output_type": "display_data"
    }
   ],
   "source": [
    "from sklearn.decomposition import PCA\n",
    "import matplotlib.pyplot as plt\n",
    "\n",
    "# To study the correlation between columns we will apply a PCA decompositio,\n",
    "pca=PCA()\n",
    "pca.fit(df_train_x)\n",
    "variance = pca.explained_variance_ratio_ #calculate variance ratios\n",
    "\n",
    "cumul_variance=np.cumsum(np.round(variance, decimals=5)*100)\n",
    "\n",
    "plt.ylabel('% Variance Explained')\n",
    "plt.xlabel('# of Features')\n",
    "plt.title('PCA Analysis')\n",
    "plt.ylim(30,100.5)\n",
    "plt.style.context('seaborn-whitegrid')\n",
    "\n",
    "# The plot shows that the 50 first (out of 561)  principal components\n",
    "# should be enough to keep about 95% of the variance\n",
    "plt.plot(cumul_variance)"
   ]
  },
  {
   "cell_type": "markdown",
   "metadata": {},
   "source": [
    "## 5. Data  visualization"
   ]
  },
  {
   "cell_type": "code",
   "execution_count": null,
   "metadata": {},
   "outputs": [],
   "source": []
  },
  {
   "cell_type": "markdown",
   "metadata": {},
   "source": [
    "## 6. Feature Engineering"
   ]
  },
  {
   "cell_type": "code",
   "execution_count": null,
   "metadata": {},
   "outputs": [],
   "source": []
  }
 ],
 "metadata": {
  "kernelspec": {
   "display_name": "Python 3",
   "language": "python",
   "name": "python3"
  },
  "language_info": {
   "codemirror_mode": {
    "name": "ipython",
    "version": 3
   },
   "file_extension": ".py",
   "mimetype": "text/x-python",
   "name": "python",
   "nbconvert_exporter": "python",
   "pygments_lexer": "ipython3",
   "version": "3.7.7"
  }
 },
 "nbformat": 4,
 "nbformat_minor": 4
}
