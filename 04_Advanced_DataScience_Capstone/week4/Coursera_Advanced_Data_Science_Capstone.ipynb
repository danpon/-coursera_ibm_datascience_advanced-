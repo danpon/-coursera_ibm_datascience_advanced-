{
 "cells": [
  {
   "cell_type": "markdown",
   "metadata": {},
   "source": [
    "# Human Activity Recognition Using Smartphones Data Set"
   ]
  },
  {
   "cell_type": "markdown",
   "metadata": {},
   "source": [
    "## 1. Usecase"
   ]
  },
  {
   "cell_type": "markdown",
   "metadata": {},
   "source": [
    "We'll use the \"Human Activity Recognition Using Smartphones Data Set\"\n",
    "[https://archive.ics.uci.edu/ml/datasets/Human+Activity+Recognition+Using+Smartphones]\n",
    "\n",
    "This dataset was built thanks to experiments carried out with a group of 30 volunteers within an age bracket of 19-48 years.\n",
    "\n",
    "Each person performed six activities (WALKING, WALKING_UPSTAIRS, WALKING_DOWNSTAIRS, SITTING, STANDING, LAYING) wearing a smartphone (Samsung Galaxy S II) on the waist.\n",
    "\n",
    "The aim is to predict the activity performed from the signals measured by the smartphone sensors (accelerometer and gyroscope) "
   ]
  },
  {
   "cell_type": "markdown",
   "metadata": {},
   "source": [
    "## 2. Dataset ETL (Extract Transform Load)"
   ]
  },
  {
   "cell_type": "code",
   "execution_count": 1,
   "metadata": {},
   "outputs": [
    {
     "name": "stdout",
     "output_type": "stream",
     "text": [
      "Summary of the X (input) variables in training dataset:\n",
      "<class 'pandas.core.frame.DataFrame'>\n",
      "RangeIndex: 7352 entries, 0 to 7351\n",
      "Columns: 561 entries, 0-tBodyAcc-mean()-X to 560-angle(Z,gravityMean)\n",
      "dtypes: float64(561)\n",
      "memory usage: 31.5 MB\n",
      "None\n",
      "------------------------------------------------------\n",
      "Summary of the X (input) variables in testing dataset:\n",
      "<class 'pandas.core.frame.DataFrame'>\n",
      "RangeIndex: 2947 entries, 0 to 2946\n",
      "Columns: 561 entries, 0-tBodyAcc-mean()-X to 560-angle(Z,gravityMean)\n",
      "dtypes: float64(561)\n",
      "memory usage: 12.6 MB\n",
      "None\n"
     ]
    }
   ],
   "source": [
    "import pandas as pd\n",
    "\n",
    "# First we read features names, which will be used as column names in our data frames\n",
    "df_features = pd.read_csv('data/features.txt',delim_whitespace=True, header=None)\n",
    "colnames = df_features.iloc[:,1].values\n",
    "\n",
    "# Column names contain duplicates (\"e.g. : fBodyAccJerk-bandsEnergy()-1,8\")\n",
    "# we fix this by prefixing column names with their indices\n",
    "colnames_fixed = []\n",
    "nbcol = len(colnames)\n",
    "for i in range(0,nbcol):\n",
    "        colnames_fixed.append(str(i)+\"-\"+colnames[i])\n",
    "\n",
    "#  Read data files\n",
    "X_train = pd.read_csv('data/train/X_train.txt',delim_whitespace=True,names=colnames_fixed)\n",
    "y_train = pd.read_csv('data/train/y_train.txt',delim_whitespace=True,header=None)\n",
    "\n",
    "X_test = pd.read_csv('data/test/X_test.txt',delim_whitespace=True,names=colnames_fixed)\n",
    "y_test = pd.read_csv('data/test/y_test.txt',delim_whitespace=True,header=None)\n",
    "\n",
    "\n",
    "print(\"Summary of the X (input) variables in training dataset:\")\n",
    "print(X_train.info())\n",
    "print(\"------------------------------------------------------\")\n",
    "print(\"Summary of the X (input) variables in testing dataset:\")\n",
    "print(X_test.info())"
   ]
  },
  {
   "cell_type": "markdown",
   "metadata": {},
   "source": [
    "## 3. Data quality assessment"
   ]
  },
  {
   "cell_type": "markdown",
   "metadata": {},
   "source": [
    "### 3.1 Missing values"
   ]
  },
  {
   "cell_type": "code",
   "execution_count": 2,
   "metadata": {},
   "outputs": [
    {
     "data": {
      "text/plain": [
       "0-tBodyAcc-mean()-X                         0\n",
       "1-tBodyAcc-mean()-Y                         0\n",
       "2-tBodyAcc-mean()-Z                         0\n",
       "3-tBodyAcc-std()-X                          0\n",
       "4-tBodyAcc-std()-Y                          0\n",
       "                                           ..\n",
       "556-angle(tBodyGyroMean,gravityMean)        0\n",
       "557-angle(tBodyGyroJerkMean,gravityMean)    0\n",
       "558-angle(X,gravityMean)                    0\n",
       "559-angle(Y,gravityMean)                    0\n",
       "560-angle(Z,gravityMean)                    0\n",
       "Length: 561, dtype: int64"
      ]
     },
     "execution_count": 2,
     "metadata": {},
     "output_type": "execute_result"
    }
   ],
   "source": [
    "X_train.isnull().sum()"
   ]
  },
  {
   "cell_type": "markdown",
   "metadata": {},
   "source": [
    "Apparently the dataset has no missing value.\n",
    "We will confirm this by calculating the max number of NULL values \n",
    "in all columns (both in the training and in the testing data subsets) :"
   ]
  },
  {
   "cell_type": "code",
   "execution_count": 3,
   "metadata": {},
   "outputs": [
    {
     "name": "stdout",
     "output_type": "stream",
     "text": [
      "Missing values in training data : 0\n",
      "Missing values in testing data : 0\n"
     ]
    }
   ],
   "source": [
    "max_na_train = max(X_train.isnull().sum())\n",
    "max_na_test = max(X_test.isnull().sum())\n",
    "print(\"Missing values in training data : {}\".format(max_na_train))\n",
    "print(\"Missing values in testing data : {}\".format(max_na_test))"
   ]
  },
  {
   "cell_type": "markdown",
   "metadata": {},
   "source": [
    "### 3.2 Invalid values"
   ]
  },
  {
   "cell_type": "markdown",
   "metadata": {},
   "source": [
    "According to the datasets description each feature is scaled and normalized\n",
    "so that its values should be in range [-1,1] :"
   ]
  },
  {
   "cell_type": "code",
   "execution_count": 4,
   "metadata": {},
   "outputs": [
    {
     "data": {
      "text/html": [
       "<div>\n",
       "<style scoped>\n",
       "    .dataframe tbody tr th:only-of-type {\n",
       "        vertical-align: middle;\n",
       "    }\n",
       "\n",
       "    .dataframe tbody tr th {\n",
       "        vertical-align: top;\n",
       "    }\n",
       "\n",
       "    .dataframe thead th {\n",
       "        text-align: right;\n",
       "    }\n",
       "</style>\n",
       "<table border=\"1\" class=\"dataframe\">\n",
       "  <thead>\n",
       "    <tr style=\"text-align: right;\">\n",
       "      <th></th>\n",
       "      <th>count</th>\n",
       "      <th>mean</th>\n",
       "      <th>std</th>\n",
       "      <th>min</th>\n",
       "      <th>25%</th>\n",
       "      <th>50%</th>\n",
       "      <th>75%</th>\n",
       "      <th>max</th>\n",
       "    </tr>\n",
       "  </thead>\n",
       "  <tbody>\n",
       "    <tr>\n",
       "      <th>0-tBodyAcc-mean()-X</th>\n",
       "      <td>7352.0</td>\n",
       "      <td>0.274488</td>\n",
       "      <td>0.070261</td>\n",
       "      <td>-1.000000</td>\n",
       "      <td>0.262975</td>\n",
       "      <td>0.277193</td>\n",
       "      <td>0.288461</td>\n",
       "      <td>1.000000</td>\n",
       "    </tr>\n",
       "    <tr>\n",
       "      <th>1-tBodyAcc-mean()-Y</th>\n",
       "      <td>7352.0</td>\n",
       "      <td>-0.017695</td>\n",
       "      <td>0.040811</td>\n",
       "      <td>-1.000000</td>\n",
       "      <td>-0.024863</td>\n",
       "      <td>-0.017219</td>\n",
       "      <td>-0.010783</td>\n",
       "      <td>1.000000</td>\n",
       "    </tr>\n",
       "    <tr>\n",
       "      <th>2-tBodyAcc-mean()-Z</th>\n",
       "      <td>7352.0</td>\n",
       "      <td>-0.109141</td>\n",
       "      <td>0.056635</td>\n",
       "      <td>-1.000000</td>\n",
       "      <td>-0.120993</td>\n",
       "      <td>-0.108676</td>\n",
       "      <td>-0.097794</td>\n",
       "      <td>1.000000</td>\n",
       "    </tr>\n",
       "    <tr>\n",
       "      <th>3-tBodyAcc-std()-X</th>\n",
       "      <td>7352.0</td>\n",
       "      <td>-0.605438</td>\n",
       "      <td>0.448734</td>\n",
       "      <td>-1.000000</td>\n",
       "      <td>-0.992754</td>\n",
       "      <td>-0.946196</td>\n",
       "      <td>-0.242813</td>\n",
       "      <td>1.000000</td>\n",
       "    </tr>\n",
       "    <tr>\n",
       "      <th>4-tBodyAcc-std()-Y</th>\n",
       "      <td>7352.0</td>\n",
       "      <td>-0.510938</td>\n",
       "      <td>0.502645</td>\n",
       "      <td>-0.999873</td>\n",
       "      <td>-0.978129</td>\n",
       "      <td>-0.851897</td>\n",
       "      <td>-0.034231</td>\n",
       "      <td>0.916238</td>\n",
       "    </tr>\n",
       "    <tr>\n",
       "      <th>...</th>\n",
       "      <td>...</td>\n",
       "      <td>...</td>\n",
       "      <td>...</td>\n",
       "      <td>...</td>\n",
       "      <td>...</td>\n",
       "      <td>...</td>\n",
       "      <td>...</td>\n",
       "      <td>...</td>\n",
       "    </tr>\n",
       "    <tr>\n",
       "      <th>556-angle(tBodyGyroMean,gravityMean)</th>\n",
       "      <td>7352.0</td>\n",
       "      <td>0.008726</td>\n",
       "      <td>0.608303</td>\n",
       "      <td>-1.000000</td>\n",
       "      <td>-0.482273</td>\n",
       "      <td>0.008735</td>\n",
       "      <td>0.506187</td>\n",
       "      <td>0.998702</td>\n",
       "    </tr>\n",
       "    <tr>\n",
       "      <th>557-angle(tBodyGyroJerkMean,gravityMean)</th>\n",
       "      <td>7352.0</td>\n",
       "      <td>-0.005981</td>\n",
       "      <td>0.477975</td>\n",
       "      <td>-1.000000</td>\n",
       "      <td>-0.376341</td>\n",
       "      <td>-0.000368</td>\n",
       "      <td>0.359368</td>\n",
       "      <td>0.996078</td>\n",
       "    </tr>\n",
       "    <tr>\n",
       "      <th>558-angle(X,gravityMean)</th>\n",
       "      <td>7352.0</td>\n",
       "      <td>-0.489547</td>\n",
       "      <td>0.511807</td>\n",
       "      <td>-1.000000</td>\n",
       "      <td>-0.812065</td>\n",
       "      <td>-0.709417</td>\n",
       "      <td>-0.509079</td>\n",
       "      <td>1.000000</td>\n",
       "    </tr>\n",
       "    <tr>\n",
       "      <th>559-angle(Y,gravityMean)</th>\n",
       "      <td>7352.0</td>\n",
       "      <td>0.058593</td>\n",
       "      <td>0.297480</td>\n",
       "      <td>-1.000000</td>\n",
       "      <td>-0.017885</td>\n",
       "      <td>0.182071</td>\n",
       "      <td>0.248353</td>\n",
       "      <td>0.478157</td>\n",
       "    </tr>\n",
       "    <tr>\n",
       "      <th>560-angle(Z,gravityMean)</th>\n",
       "      <td>7352.0</td>\n",
       "      <td>-0.056515</td>\n",
       "      <td>0.279122</td>\n",
       "      <td>-1.000000</td>\n",
       "      <td>-0.143414</td>\n",
       "      <td>0.003181</td>\n",
       "      <td>0.107659</td>\n",
       "      <td>1.000000</td>\n",
       "    </tr>\n",
       "  </tbody>\n",
       "</table>\n",
       "<p>561 rows × 8 columns</p>\n",
       "</div>"
      ],
      "text/plain": [
       "                                           count      mean       std  \\\n",
       "0-tBodyAcc-mean()-X                       7352.0  0.274488  0.070261   \n",
       "1-tBodyAcc-mean()-Y                       7352.0 -0.017695  0.040811   \n",
       "2-tBodyAcc-mean()-Z                       7352.0 -0.109141  0.056635   \n",
       "3-tBodyAcc-std()-X                        7352.0 -0.605438  0.448734   \n",
       "4-tBodyAcc-std()-Y                        7352.0 -0.510938  0.502645   \n",
       "...                                          ...       ...       ...   \n",
       "556-angle(tBodyGyroMean,gravityMean)      7352.0  0.008726  0.608303   \n",
       "557-angle(tBodyGyroJerkMean,gravityMean)  7352.0 -0.005981  0.477975   \n",
       "558-angle(X,gravityMean)                  7352.0 -0.489547  0.511807   \n",
       "559-angle(Y,gravityMean)                  7352.0  0.058593  0.297480   \n",
       "560-angle(Z,gravityMean)                  7352.0 -0.056515  0.279122   \n",
       "\n",
       "                                               min       25%       50%  \\\n",
       "0-tBodyAcc-mean()-X                      -1.000000  0.262975  0.277193   \n",
       "1-tBodyAcc-mean()-Y                      -1.000000 -0.024863 -0.017219   \n",
       "2-tBodyAcc-mean()-Z                      -1.000000 -0.120993 -0.108676   \n",
       "3-tBodyAcc-std()-X                       -1.000000 -0.992754 -0.946196   \n",
       "4-tBodyAcc-std()-Y                       -0.999873 -0.978129 -0.851897   \n",
       "...                                            ...       ...       ...   \n",
       "556-angle(tBodyGyroMean,gravityMean)     -1.000000 -0.482273  0.008735   \n",
       "557-angle(tBodyGyroJerkMean,gravityMean) -1.000000 -0.376341 -0.000368   \n",
       "558-angle(X,gravityMean)                 -1.000000 -0.812065 -0.709417   \n",
       "559-angle(Y,gravityMean)                 -1.000000 -0.017885  0.182071   \n",
       "560-angle(Z,gravityMean)                 -1.000000 -0.143414  0.003181   \n",
       "\n",
       "                                               75%       max  \n",
       "0-tBodyAcc-mean()-X                       0.288461  1.000000  \n",
       "1-tBodyAcc-mean()-Y                      -0.010783  1.000000  \n",
       "2-tBodyAcc-mean()-Z                      -0.097794  1.000000  \n",
       "3-tBodyAcc-std()-X                       -0.242813  1.000000  \n",
       "4-tBodyAcc-std()-Y                       -0.034231  0.916238  \n",
       "...                                            ...       ...  \n",
       "556-angle(tBodyGyroMean,gravityMean)      0.506187  0.998702  \n",
       "557-angle(tBodyGyroJerkMean,gravityMean)  0.359368  0.996078  \n",
       "558-angle(X,gravityMean)                 -0.509079  1.000000  \n",
       "559-angle(Y,gravityMean)                  0.248353  0.478157  \n",
       "560-angle(Z,gravityMean)                  0.107659  1.000000  \n",
       "\n",
       "[561 rows x 8 columns]"
      ]
     },
     "execution_count": 4,
     "metadata": {},
     "output_type": "execute_result"
    }
   ],
   "source": [
    "X_train.describe().transpose()"
   ]
  },
  {
   "cell_type": "markdown",
   "metadata": {},
   "source": [
    "We can check that all values are really in range [-1,1] both in training and testing datasets as follows :"
   ]
  },
  {
   "cell_type": "code",
   "execution_count": 5,
   "metadata": {},
   "outputs": [
    {
     "name": "stdout",
     "output_type": "stream",
     "text": [
      " Training dataset - values are in range [-1.0,1.0]\n",
      " Testing dataset - values are in range [-1.0,1.0]\n"
     ]
    }
   ],
   "source": [
    "train_min= min(X_train.min())\n",
    "train_max= max(X_train.max())\n",
    "test_min= min(X_test.min())\n",
    "test_max= max(X_test.max())\n",
    "print(f\" Training dataset - values are in range [{train_min},{train_max}]\")\n",
    "print(f\" Testing dataset - values are in range [{test_min},{test_max}]\")\n"
   ]
  },
  {
   "cell_type": "markdown",
   "metadata": {},
   "source": [
    "### 3.3 Outliers"
   ]
  },
  {
   "cell_type": "markdown",
   "metadata": {},
   "source": [
    "We can show that there are outliers in the training dataset\n",
    "by calculating the IQR (Inter Quartile Range) for each feature variable :"
   ]
  },
  {
   "cell_type": "code",
   "execution_count": 6,
   "metadata": {},
   "outputs": [
    {
     "data": {
      "text/plain": [
       "0-tBodyAcc-mean()-X                         1795\n",
       "1-tBodyAcc-mean()-Y                         1122\n",
       "2-tBodyAcc-mean()-Z                         1180\n",
       "3-tBodyAcc-std()-X                             2\n",
       "4-tBodyAcc-std()-Y                             0\n",
       "                                            ... \n",
       "556-angle(tBodyGyroMean,gravityMean)           0\n",
       "557-angle(tBodyGyroJerkMean,gravityMean)       0\n",
       "558-angle(X,gravityMean)                    1437\n",
       "559-angle(Y,gravityMean)                     776\n",
       "560-angle(Z,gravityMean)                     705\n",
       "Length: 561, dtype: int64"
      ]
     },
     "execution_count": 6,
     "metadata": {},
     "output_type": "execute_result"
    }
   ],
   "source": [
    "Q1 = X_train.quantile(0.25)\n",
    "Q3 = X_train.quantile(0.75)\n",
    "IQR = Q3 - Q1\n",
    "((X_train < (Q1 - 1.5 * IQR)) | (X_train > (Q3 + 1.5 * IQR))).sum()\n"
   ]
  },
  {
   "cell_type": "markdown",
   "metadata": {},
   "source": [
    "Although outliers display \"extreme\" values these values are not necessarily invalid. So we'll keep them as they are for now."
   ]
  },
  {
   "cell_type": "markdown",
   "metadata": {},
   "source": [
    "## 4. Data exploration"
   ]
  },
  {
   "cell_type": "markdown",
   "metadata": {},
   "source": [
    "To study the correlation between columns we will apply a PCA decomposition :"
   ]
  },
  {
   "cell_type": "code",
   "execution_count": 7,
   "metadata": {},
   "outputs": [
    {
     "data": {
      "text/plain": [
       "[<matplotlib.lines.Line2D at 0x7fd1002e6190>]"
      ]
     },
     "execution_count": 7,
     "metadata": {},
     "output_type": "execute_result"
    },
    {
     "data": {
      "image/png": "[encoded data removed]",
      "text/plain": [
       "<Figure size 432x288 with 1 Axes>"
      ]
     },
     "metadata": {
      "needs_background": "light"
     },
     "output_type": "display_data"
    }
   ],
   "source": [
    "from sklearn.decomposition import PCA\n",
    "import numpy as np\n",
    "import matplotlib.pyplot as plt\n",
    "\n",
    "pca=PCA()\n",
    "pca.fit(X_train)\n",
    "variance = pca.explained_variance_ratio_ #calculate variance ratios\n",
    "\n",
    "cumul_variance=np.cumsum(np.round(variance, decimals=5)*100)\n",
    "\n",
    "plt.ylabel('% Variance Explained')\n",
    "plt.xlabel('# of Features')\n",
    "plt.title('PCA Analysis')\n",
    "plt.ylim(30,100.5)\n",
    "plt.style.context('seaborn-whitegrid')\n",
    "\n",
    "plt.plot(cumul_variance)"
   ]
  },
  {
   "cell_type": "markdown",
   "metadata": {},
   "source": [
    "The plot shows that the 50 first (out of 561)  principal components should be enough to keep about 95% of the variance."
   ]
  },
  {
   "cell_type": "markdown",
   "metadata": {},
   "source": [
    "## 5. Data  visualization"
   ]
  },
  {
   "cell_type": "markdown",
   "metadata": {},
   "source": [
    "Here we show that the distribution of the outcome values is quite balanced\n",
    "both in training and testing dataset."
   ]
  },
  {
   "cell_type": "code",
   "execution_count": 8,
   "metadata": {},
   "outputs": [
    {
     "data": {
      "image/png": "[encoded data removed]",
      "text/plain": [
       "<Figure size 432x288 with 1 Axes>"
      ]
     },
     "metadata": {
      "needs_background": "light"
     },
     "output_type": "display_data"
    }
   ],
   "source": [
    "import matplotlib.pyplot as plt\n",
    "\n",
    "# Training data\n",
    "plt.hist(y_train[0])\n",
    "plt.show()\n"
   ]
  },
  {
   "cell_type": "code",
   "execution_count": 9,
   "metadata": {},
   "outputs": [
    {
     "data": {
      "image/png": "[encoded data removed]",
      "text/plain": [
       "<Figure size 432x288 with 1 Axes>"
      ]
     },
     "metadata": {
      "needs_background": "light"
     },
     "output_type": "display_data"
    }
   ],
   "source": [
    "# Testing data\n",
    "plt.hist(y_test[0])\n",
    "plt.show()"
   ]
  },
  {
   "cell_type": "markdown",
   "metadata": {},
   "source": [
    " NB: 1 = WALKING, 2 = WALKING_UPSTAIRS, 3 = WALKING_DOWNSTAIRS, 4 = SITTING, 5 = STANDING, 6 = LAYING"
   ]
  },
  {
   "cell_type": "markdown",
   "metadata": {},
   "source": [
    "## 6. Features Engineering"
   ]
  },
  {
   "cell_type": "markdown",
   "metadata": {},
   "source": [
    "### 6.1 Dimensionality reduction of X with PCA "
   ]
  },
  {
   "cell_type": "markdown",
   "metadata": {},
   "source": [
    "In order to remove noise and redundancy in data we'll keep only the 300 first components built from PCA (see section 4.)"
   ]
  },
  {
   "cell_type": "code",
   "execution_count": 10,
   "metadata": {},
   "outputs": [],
   "source": [
    "pca=PCA(n_components=300)\n",
    "\n",
    "# IMPORTANT : values are already scaled and centered so we don't need to pre-process them: we can fit PCA directly.\n",
    "pca.fit(X_train)\n",
    "\n",
    "X_train_pca = pca.transform(X_train)\n",
    "X_test_pca = pca.transform(X_test)"
   ]
  },
  {
   "cell_type": "markdown",
   "metadata": {},
   "source": [
    "### 6.2 One-hot encoding of y\n"
   ]
  },
  {
   "cell_type": "markdown",
   "metadata": {},
   "source": [
    "To build a neural network model with Keras, target variable must be one-hot encoded :"
   ]
  },
  {
   "cell_type": "code",
   "execution_count": 11,
   "metadata": {},
   "outputs": [],
   "source": [
    "import tensorflow as tf\n",
    "\n",
    "# keras to_categorical method requires values starting from 0. Hence the \"-1\"\n",
    "y_train_cat= tf.keras.utils.to_categorical(y_train-1)\n",
    "y_test_cat=  tf.keras.utils.to_categorical(y_test-1)"
   ]
  },
  {
   "cell_type": "markdown",
   "metadata": {},
   "source": [
    "## 7. Model performance indicator"
   ]
  },
  {
   "cell_type": "markdown",
   "metadata": {},
   "source": [
    "In section 5. Data visualization, we showed that target class values were **balanced**. So we can use \"accuracy\" as a model performance indicator. Accuracy is both simple to calculate and very easy to interpret."
   ]
  },
  {
   "cell_type": "markdown",
   "metadata": {},
   "source": [
    "## 8. Traditional Machine Learning Algorithm (linear SVM)"
   ]
  },
  {
   "cell_type": "code",
   "execution_count": 12,
   "metadata": {},
   "outputs": [
    {
     "name": "stdout",
     "output_type": "stream",
     "text": [
      "Fitting 5 folds for each of 12 candidates, totalling 60 fits\n"
     ]
    },
    {
     "name": "stderr",
     "output_type": "stream",
     "text": [
      "[Parallel(n_jobs=1)]: Using backend SequentialBackend with 1 concurrent workers.\n",
      "[Parallel(n_jobs=1)]: Done  60 out of  60 | elapsed:  1.6min finished\n"
     ]
    },
    {
     "name": "stdout",
     "output_type": "stream",
     "text": [
      "{'C': 1, 'gamma': 1, 'kernel': 'linear'}\n",
      "SVC(C=1, gamma=1, kernel='linear')\n",
      "Accuracy : 0.9636918900576857\n"
     ]
    }
   ],
   "source": [
    "# Training a linear SVM classifier \n",
    "\n",
    "from sklearn.svm import SVC\n",
    "from sklearn.metrics import accuracy_score\n",
    "from sklearn.model_selection import GridSearchCV\n",
    "\n",
    "# we'll use grid-search cross-validation to tune the hyper-parameters \n",
    "\n",
    "param_grid = {'C': [0.1, 1, 10,100],  \n",
    "              'gamma': [1, 0.1, 0.01], \n",
    "              'kernel': ['linear']}  \n",
    "\n",
    "\n",
    "grid = GridSearchCV(SVC(), param_grid, scoring='accuracy', refit = True, verbose = 1) \n",
    "  \n",
    "# fitting the model for grid search \n",
    "grid.fit(X_train_pca, y_train[0]) \n",
    "\n",
    "# print best parameter after tuning \n",
    "print(grid.best_params_) \n",
    "  \n",
    "# print how our model looks after hyper-parameter tuning \n",
    "print(grid.best_estimator_) \n",
    "\n",
    "\n",
    "y_pred = grid.predict(X_test_pca) \n",
    "  \n",
    "print(\"Accuracy :\",accuracy_score(y_test[0], y_pred))\n"
   ]
  },
  {
   "cell_type": "markdown",
   "metadata": {},
   "source": [
    "## 9. Deep Learning Algorithm (MLP)"
   ]
  },
  {
   "cell_type": "code",
   "execution_count": 46,
   "metadata": {},
   "outputs": [],
   "source": [
    "import keras\n",
    "from keras.models import Sequential\n",
    "from keras.layers import Dense, Dropout\n",
    "\n",
    "model = Sequential([\n",
    "   Dense(500, activation='relu', input_shape=(300,)),\n",
    "   Dropout(rate=0.4),\n",
    "   Dense(250, activation='relu'),\n",
    "   Dropout(rate=0.2),\n",
    "   Dense(125, activation='relu'),\n",
    "   Dropout(rate=0.1), \n",
    "   Dense(6, activation='softmax')\n",
    "])\n",
    "\n",
    "model.compile(\n",
    "   optimizer='Adam',\n",
    "   loss='categorical_crossentropy',\n",
    "   metrics=['accuracy']\n",
    ")\n",
    "\n",
    "# make the results reproducible\n",
    "from numpy.random import seed\n",
    "seed(1)\n",
    "import tensorflow \n",
    "tensorflow.random.set_seed(2)\n",
    "\n",
    "result=model.fit(\n",
    "   x=X_train_pca,\n",
    "   y=y_train_cat,\n",
    "   epochs=27,\n",
    "   batch_size=64,\n",
    "   shuffle=True,\n",
    "   validation_data=(X_test_pca, y_test_cat),\n",
    "   verbose=0\n",
    ")\n"
   ]
  },
  {
   "cell_type": "markdown",
   "metadata": {},
   "source": [
    "**Performance evaluation:**"
   ]
  },
  {
   "cell_type": "code",
   "execution_count": 47,
   "metadata": {},
   "outputs": [
    {
     "name": "stdout",
     "output_type": "stream",
     "text": [
      "93/93 [==============================] - 0s 2ms/step - loss: 0.2174 - accuracy: 0.9742\n"
     ]
    },
    {
     "data": {
      "text/plain": [
       "[0.21735869348049164, 0.9742110371589661]"
      ]
     },
     "execution_count": 47,
     "metadata": {},
     "output_type": "execute_result"
    }
   ],
   "source": [
    "model_eval = model.evaluate(X_test_pca, y_test_cat)\n",
    "model_eval\n",
    "\n"
   ]
  },
  {
   "cell_type": "markdown",
   "metadata": {},
   "source": [
    "**Performance visualization:**"
   ]
  },
  {
   "cell_type": "code",
   "execution_count": 48,
   "metadata": {},
   "outputs": [
    {
     "data": {
      "image/png": "[encoded data removed]",
      "text/plain": [
       "<Figure size 432x288 with 1 Axes>"
      ]
     },
     "metadata": {
      "needs_background": "light"
     },
     "output_type": "display_data"
    }
   ],
   "source": [
    "# Get training and test accuracy histories\n",
    "training_accuracy = result.history['accuracy']\n",
    "test_accuracy = result.history['val_accuracy']\n",
    "\n",
    "# Create count of the number of epochs\n",
    "epoch_count = range(1, len(training_accuracy) + 1)\n",
    "\n",
    "# Visualize accuracy history\n",
    "plt.plot(epoch_count, training_accuracy, 'r--')\n",
    "plt.plot(epoch_count, test_accuracy, 'b-')\n",
    "plt.legend(['Training Accuracy', 'Test Accuracy'])\n",
    "plt.xlabel('Epoch')\n",
    "plt.ylabel('Accuracy Score')\n",
    "plt.show();"
   ]
  },
  {
   "cell_type": "code",
   "execution_count": null,
   "metadata": {},
   "outputs": [],
   "source": []
  }
 ],
 "metadata": {
  "kernelspec": {
   "display_name": "Python 3",
   "language": "python",
   "name": "python3"
  },
  "language_info": {
   "codemirror_mode": {
    "name": "ipython",
    "version": 3
   },
   "file_extension": ".py",
   "mimetype": "text/x-python",
   "name": "python",
   "nbconvert_exporter": "python",
   "pygments_lexer": "ipython3",
   "version": "3.7.7"
  }
 },
 "nbformat": 4,
 "nbformat_minor": 4
}
